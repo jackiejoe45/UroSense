{
  "nbformat": 4,
  "nbformat_minor": 0,
  "metadata": {
    "colab": {
      "provenance": []
    },
    "kernelspec": {
      "name": "python3",
      "display_name": "Python 3"
    },
    "language_info": {
      "name": "python"
    }
  },
  "cells": [
    {
      "cell_type": "code",
      "source": [
        "!pip install numpy==1.24.3\n",
        "!pip install scikit-learn==1.2.2"
      ],
      "metadata": {
        "colab": {
          "base_uri": "https://localhost:8080/"
        },
        "id": "5DKLTUqKanfr",
        "outputId": "da77257f-fa4b-4204-a06c-7dc78e8ca805"
      },
      "execution_count": 6,
      "outputs": [
        {
          "output_type": "stream",
          "name": "stdout",
          "text": [
            "Requirement already satisfied: numpy==1.24.3 in /usr/local/lib/python3.11/dist-packages (1.24.3)\n",
            "Requirement already satisfied: scikit-learn==1.2.2 in /usr/local/lib/python3.11/dist-packages (1.2.2)\n",
            "Requirement already satisfied: numpy>=1.17.3 in /usr/local/lib/python3.11/dist-packages (from scikit-learn==1.2.2) (1.24.3)\n",
            "Requirement already satisfied: scipy>=1.3.2 in /usr/local/lib/python3.11/dist-packages (from scikit-learn==1.2.2) (1.14.1)\n",
            "Requirement already satisfied: joblib>=1.1.1 in /usr/local/lib/python3.11/dist-packages (from scikit-learn==1.2.2) (1.4.2)\n",
            "Requirement already satisfied: threadpoolctl>=2.0.0 in /usr/local/lib/python3.11/dist-packages (from scikit-learn==1.2.2) (3.6.0)\n"
          ]
        }
      ]
    },
    {
      "cell_type": "code",
      "source": [
        "import sklearn\n",
        "print(sklearn.__version__)"
      ],
      "metadata": {
        "colab": {
          "base_uri": "https://localhost:8080/"
        },
        "id": "0JYj-y57QaH-",
        "outputId": "3ca96ccd-04ed-4da7-c1eb-a06df875d573"
      },
      "execution_count": 7,
      "outputs": [
        {
          "output_type": "stream",
          "name": "stdout",
          "text": [
            "1.2.2\n"
          ]
        }
      ]
    },
    {
      "cell_type": "code",
      "source": [
        "import sklearn\n",
        "import cv2\n",
        "import numpy as np\n",
        "import pickle\n",
        "import warnings\n",
        "# Suppress specific warnings\n",
        "warnings.filterwarnings(\"ignore\", category=UserWarning)\n",
        "warnings.filterwarnings(\"ignore\", category=FutureWarning)\n",
        "import matplotlib.pyplot as plt\n",
        "from sklearn.cluster import KMeans\n",
        "from typing import List, Tuple, Union\n",
        "from sklearn.metrics.pairwise import euclidean_distances # Import euclidean_distances\n"
      ],
      "metadata": {
        "id": "4VRnCTMPU_Lc"
      },
      "execution_count": 8,
      "outputs": []
    },
    {
      "cell_type": "code",
      "source": [
        "import numpy as np\n",
        "from collections import defaultdict\n",
        "\n",
        "# === Load chart from file ===\n",
        "def load_chart_from_file(filepath):\n",
        "    chart = defaultdict(list)\n",
        "    with open(filepath, \"r\") as f:\n",
        "        for line in f:\n",
        "            biomarker, val, h, s, v = line.strip().split(\",\")\n",
        "            hsv = np.array([float(h), float(s), float(v)], dtype=np.float32)\n",
        "            chart[biomarker].append((hsv, val))\n",
        "    return chart\n",
        "\n",
        "# === Match function ===\n",
        "def match_to_chart(input_hsv, biomarker, chart):\n",
        "    matches = chart.get(biomarker, [])\n",
        "    if not matches:\n",
        "        return \"Unknown\"\n",
        "    distances = [np.linalg.norm(input_hsv - ref_hsv) for ref_hsv, _ in matches]\n",
        "    closest_index = np.argmin(distances)\n",
        "    return matches[closest_index][1]"
      ],
      "metadata": {
        "id": "n7h30c3Gj5Qc"
      },
      "execution_count": 9,
      "outputs": []
    },
    {
      "cell_type": "code",
      "source": [
        "def rotate_and_save(image_path, output_path):\n",
        "    \"\"\"Rotates an image 90 degrees counterclockwise and saves it.\n",
        "\n",
        "    Args:\n",
        "        image_path: Path to the input image file.\n",
        "        output_path: Path to save the rotated image.\n",
        "    \"\"\"\n",
        "    try:\n",
        "        # Load the image using OpenCV\n",
        "        img = cv2.imread(image_path)\n",
        "\n",
        "        if img is None:\n",
        "            print(f\"Error: Could not read image at {image_path}\")\n",
        "            return\n",
        "\n",
        "        # Rotate the image 90 degrees counterclockwise\n",
        "        rotated_img = cv2.rotate(img, cv2.ROTATE_90_COUNTERCLOCKWISE)\n",
        "\n",
        "        # Save the rotated image\n",
        "        cv2.imwrite(output_path, rotated_img)\n",
        "        print(f\"Rotated image saved to {output_path}\")\n",
        "\n",
        "    except Exception as e:\n",
        "        print(f\"An error occurred: {e}\")\n",
        "\n"
      ],
      "metadata": {
        "id": "ooCLwAPvnbaA"
      },
      "execution_count": 10,
      "outputs": []
    },
    {
      "cell_type": "code",
      "source": [
        "def extract_strip(image_path = \"rotated.jpg\", debug: bool = False):\n",
        "  # Load the image\n",
        "  image = cv2.imread(image_path)\n",
        "\n",
        "  rgb_image = cv2.cvtColor(image, cv2.COLOR_BGR2RGB)\n",
        "\n",
        "  # Convert to grayscale\n",
        "  gray = cv2.cvtColor(image, cv2.COLOR_BGR2GRAY)\n",
        "\n",
        "  # Apply Gaussian blur\n",
        "  blurred = cv2.GaussianBlur(gray, (5, 5), 0)\n",
        "\n",
        "  # Use edge detection (Canny)\n",
        "  edges = cv2.Canny(blurred, 50, 150)\n",
        "\n",
        "  if debug:\n",
        "      plt.figure(figsize=(12, 4))\n",
        "      plt.subplot(131)\n",
        "      plt.imshow(rgb_image)\n",
        "      plt.title(\"Original Image\")\n",
        "      plt.axis('off')\n",
        "\n",
        "      plt.subplot(132)\n",
        "      plt.imshow(blurred, cmap='gray')\n",
        "      plt.title(\"Blurred Image\")\n",
        "      plt.axis('off')\n",
        "\n",
        "      plt.subplot(133)\n",
        "      plt.imshow(edges, cmap='gray')\n",
        "      plt.title(\"Edge Detection\")\n",
        "      plt.axis('off')\n",
        "      plt.tight_layout()\n",
        "      plt.show()\n",
        "\n",
        "  # Find contours\n",
        "  contours, _ = cv2.findContours(edges, cv2.RETR_EXTERNAL, cv2.CHAIN_APPROX_SIMPLE)\n",
        "\n",
        "  # Find the largest contour (assumed to be the strip)\n",
        "  strip_contour = max(contours, key=cv2.contourArea)\n",
        "\n",
        "  # Create a mask and extract the strip\n",
        "  mask = np.zeros_like(gray)\n",
        "  cv2.drawContours(mask, [strip_contour], -1, 255, thickness=cv2.FILLED)\n",
        "  strip = cv2.bitwise_and(image, image, mask=mask)\n",
        "\n",
        "  # Find the bounding rectangle of the strip\n",
        "  x, y, w, h = cv2.boundingRect(strip_contour)\n",
        "  strip_roi = image[y:y+h, x:x+w]\n",
        "\n",
        "  # Convert extracted strip to HSV (for color segmentation)\n",
        "  hsv = cv2.cvtColor(strip_roi, cv2.COLOR_BGR2HSV)\n",
        "\n",
        "  # Define color thresholds to extract reagent patches\n",
        "  lower_bound = np.array([0, 50, 50])  # Adjust based on the strip colors\n",
        "  upper_bound = np.array([180, 255, 255])\n",
        "\n",
        "  # Create a mask to detect the patches\n",
        "  patch_mask = cv2.inRange(hsv, lower_bound, upper_bound)\n",
        "\n",
        "  # Find contours for patches\n",
        "  patch_contours, _ = cv2.findContours(patch_mask, cv2.RETR_EXTERNAL, cv2.CHAIN_APPROX_SIMPLE)\n",
        "\n",
        "  # Sort patches top to bottom\n",
        "  patch_contours = sorted(patch_contours, key=lambda c: cv2.boundingRect(c)[1])\n",
        "\n",
        "  # Extract and save each patch\n",
        "  patches = []\n",
        "  for i, patch in enumerate(patch_contours):\n",
        "      px, py, pw, ph = cv2.boundingRect(patch)\n",
        "      patch_roi = strip_roi[py:py+ph, px:px+pw]\n",
        "      patches.append(patch_roi)\n",
        "      cv2.imwrite(f\"patch_{i}.png\", patch_roi)\n",
        "\n",
        "  if debug:\n",
        "        plt.subplot(132)\n",
        "        plt.imshow(cv2.cvtColor(patch_roi, cv2.COLOR_BGR2RGB))\n",
        "        plt.title(\"Extracted Strip\")\n",
        "        plt.axis('off')\n",
        "\n",
        "        plt.subplot(133)\n",
        "        gray_roi = cv2.cvtColor(patch_roi, cv2.COLOR_BGR2GRAY)\n",
        "        plt.imshow(gray_roi, cmap='gray')\n",
        "        plt.title(\"Grayscale Strip\")\n",
        "        plt.axis('off')\n",
        "        plt.tight_layout()\n",
        "        plt.show()\n",
        "\n",
        "\n",
        "  return \"patch_0.png\""
      ],
      "metadata": {
        "id": "UCY2x1hAp4Kv"
      },
      "execution_count": 11,
      "outputs": []
    },
    {
      "cell_type": "code",
      "source": [
        "def extract_patch_hsv_values(image_path: str, num_clusters: int = 10, debug: bool = False) -> np.ndarray:\n",
        "    \"\"\"\n",
        "    Extract and return dominant patch colors from a test strip image in HSV format.\n",
        "\n",
        "    Args:\n",
        "        image_path: Path to the cropped test strip image.\n",
        "        num_clusters: Number of color patches expected.\n",
        "        debug: If True, shows the sorted RGB color patches.\n",
        "\n",
        "    Returns:\n",
        "        A NumPy array of HSV values with shape (num_clusters, 3)\n",
        "    \"\"\"\n",
        "    # Load and convert image to RGB\n",
        "    image = cv2.imread(image_path)\n",
        "    if image is None:\n",
        "        raise ValueError(f\"Could not read image at {image_path}\")\n",
        "    image_rgb = cv2.cvtColor(image, cv2.COLOR_BGR2RGB)\n",
        "\n",
        "    # Reshape image data for K-Means\n",
        "    reshaped_image = image_rgb.reshape((-1, 3))\n",
        "\n",
        "    # Apply K-Means clustering\n",
        "    kmeans = KMeans(n_clusters=num_clusters, n_init=10, random_state=42)\n",
        "    kmeans.fit(reshaped_image)\n",
        "    dominant_colors = kmeans.cluster_centers_.astype(int)\n",
        "\n",
        "    # Sort colors by vertical position\n",
        "    labels = kmeans.labels_.reshape(image.shape[:2])\n",
        "    patch_positions = [np.mean(np.where(labels == i)[0]) for i in range(num_clusters)]\n",
        "    sorted_indices = np.argsort(patch_positions)\n",
        "    sorted_colors = dominant_colors[sorted_indices]\n",
        "\n",
        "    # Convert sorted RGB to HSV\n",
        "    sorted_colors_bgr = np.array(sorted_colors, dtype=np.uint8).reshape(1, -1, 3)\n",
        "    sorted_colors_hsv = cv2.cvtColor(sorted_colors_bgr, cv2.COLOR_RGB2HSV)[0]\n",
        "\n",
        "    if debug:\n",
        "        import matplotlib.pyplot as plt\n",
        "        sorted_colors_rgb = np.array(sorted_colors).reshape(-1, 1, 3)\n",
        "        fig, ax = plt.subplots(figsize=(2, 8))\n",
        "        ax.set_xticks([])\n",
        "        ax.set_yticks([])\n",
        "        ax.imshow(sorted_colors_rgb)\n",
        "        plt.show()\n",
        "\n",
        "        from sklearn.metrics import silhouette_score, davies_bouldin_score, calinski_harabasz_score\n",
        "\n",
        "        silhouette = silhouette_score(reshaped_image, kmeans.labels_)\n",
        "        dbi = davies_bouldin_score(reshaped_image, kmeans.labels_)\n",
        "        chi = calinski_harabasz_score(reshaped_image, kmeans.labels_)\n",
        "\n",
        "        print(f\"Silhouette Score: {silhouette:.4f}\")\n",
        "        print(f\"Davies-Bouldin Index: {dbi:.4f}\")\n",
        "        print(f\"Calinski-Harabasz Index: {chi:.2f}\")\n",
        "\n",
        "\n",
        "    return sorted_colors_hsv"
      ],
      "metadata": {
        "id": "Waby-84YnhDB"
      },
      "execution_count": 12,
      "outputs": []
    },
    {
      "cell_type": "code",
      "source": [
        "import cv2\n",
        "import numpy as np\n",
        "from typing import List\n",
        "from google.colab.patches import cv2_imshow\n",
        "import matplotlib.pyplot as plt\n",
        "\n",
        "def extract_patch_hsv_contours_debug(image_path: str, num_patches: int = 10) -> np.ndarray:\n",
        "    image = cv2.imread(image_path)\n",
        "    if image is None:\n",
        "        raise ValueError(f\"Could not read image at {image_path}\")\n",
        "\n",
        "    # Original\n",
        "    print(\"Original Image:\")\n",
        "    cv2_imshow(image)\n",
        "\n",
        "    image_hsv = cv2.cvtColor(image, cv2.COLOR_BGR2HSV)\n",
        "    image_gray = cv2.cvtColor(image, cv2.COLOR_BGR2GRAY)\n",
        "\n",
        "    print(\"Grayscale Image:\")\n",
        "    cv2_imshow(image_gray)\n",
        "\n",
        "    # Show pixel intensity range\n",
        "    min_val = np.min(image_gray)\n",
        "    max_val = np.max(image_gray)\n",
        "    mean_val = np.mean(image_gray)\n",
        "    print(f\"Pixel intensity - min: {min_val}, max: {max_val}, mean: {mean_val:.2f}\")\n",
        "\n",
        "    # Set threshold dynamically (you can adjust the offset if needed)\n",
        "    threshold_value = int(mean_val + 20)\n",
        "    threshold_value = np.clip(threshold_value, 100, 250)\n",
        "    print(f\"Using dynamic threshold value: {threshold_value}\")\n",
        "\n",
        "    _, thresh = cv2.threshold(image_gray, threshold_value, 255, cv2.THRESH_BINARY_INV)\n",
        "    print(\"Thresholded Image:\")\n",
        "    cv2_imshow(thresh)\n",
        "\n",
        "    # Find contours\n",
        "    contours, _ = cv2.findContours(thresh, cv2.RETR_EXTERNAL, cv2.CHAIN_APPROX_SIMPLE)\n",
        "\n",
        "    image_contours = image.copy()\n",
        "    cv2.drawContours(image_contours, contours, -1, (0, 255, 0), 1)\n",
        "    print(f\"Total contours found: {len(contours)}\")\n",
        "    cv2_imshow(image_contours)\n",
        "\n",
        "    # Filter and sort contours by vertical position\n",
        "    patch_contours = sorted(\n",
        "        [cnt for cnt in contours if cv2.contourArea(cnt) > 50],\n",
        "        key=lambda c: cv2.boundingRect(c)[1]\n",
        "    )\n",
        "\n",
        "    print(f\"Contours after filtering: {len(patch_contours)}\")\n",
        "\n",
        "    hsv_values: List[np.ndarray] = []\n",
        "    image_boxes = image.copy()\n",
        "\n",
        "    for i, cnt in enumerate(patch_contours[:num_patches]):\n",
        "        x, y, w, h = cv2.boundingRect(cnt)\n",
        "        cv2.rectangle(image_boxes, (x, y), (x+w, y+h), (0, 255, 0), 2)\n",
        "        patch = image_hsv[y:y+h, x:x+w]\n",
        "        avg_hsv = cv2.mean(patch)[:3]\n",
        "        hsv_values.append(avg_hsv)\n",
        "        print(f\"Patch {i+1} at (x={x}, y={y}, w={w}, h={h}) → HSV: {avg_hsv}\")\n",
        "\n",
        "    print(\"Detected Patch Boxes:\")\n",
        "    cv2_imshow(image_boxes)\n",
        "\n",
        "    # Show color swatches\n",
        "    hsv_array = np.array(hsv_values, dtype=np.uint8)\n",
        "    if len(hsv_array) > 0:\n",
        "        rgb_strip = np.array([[cv2.cvtColor(np.uint8([[h]]), cv2.COLOR_HSV2RGB)[0][0] for h in hsv_array]], dtype=np.uint8)\n",
        "        plt.imshow(rgb_strip.reshape(-1, 1, 3))\n",
        "        plt.axis('off')\n",
        "        plt.title(\"Extracted Patch Colors\")\n",
        "        plt.show()\n",
        "\n",
        "    return hsv_array\n"
      ],
      "metadata": {
        "id": "0EEVFrJPYpmS"
      },
      "execution_count": 13,
      "outputs": []
    },
    {
      "cell_type": "code",
      "source": [
        "from logging import debug\n",
        "\n",
        "image_path = \"protein300c.jpg\"\n",
        "hsv_values = extract_patch_hsv_values(image_path, num_clusters=10, debug=True)\n",
        "print(hsv_values)"
      ],
      "metadata": {
        "id": "qoVwpLUg-lNT",
        "colab": {
          "base_uri": "https://localhost:8080/",
          "height": 879
        },
        "outputId": "627e2179-8424-4550-f905-b012b6641fe4"
      },
      "execution_count": 15,
      "outputs": [
        {
          "output_type": "display_data",
          "data": {
            "text/plain": [
              "<Figure size 200x800 with 1 Axes>"
            ],
            "image/png": "[encoded data removed]"
          },
          "metadata": {}
        },
        {
          "output_type": "stream",
          "name": "stdout",
          "text": [
            "Silhouette Score: 0.4184\n",
            "Davies-Bouldin Index: 0.7762\n",
            "Calinski-Harabasz Index: 10910.93\n",
            "[[ 82  68 161]\n",
            " [ 20  36 191]\n",
            " [ 34  24 159]\n",
            " [ 21  30 201]\n",
            " [ 21  44 181]\n",
            " [ 21  70 204]\n",
            " [ 23  29 214]\n",
            " [ 63  32 144]\n",
            " [ 23 102 172]\n",
            " [ 21 120 206]]\n"
          ]
        }
      ]
    },
    {
      "cell_type": "code",
      "source": [
        "hsv_values = extract_patch_hsv_contours_debug(image_path, num_patches=10)\n",
        "print(hsv_values)"
      ],
      "metadata": {
        "colab": {
          "base_uri": "https://localhost:8080/",
          "height": 1000
        },
        "id": "04I8kLXdYtLH",
        "outputId": "259532c8-ae5d-43e3-d6af-99eea249edc8"
      },
      "execution_count": 16,
      "outputs": [
        {
          "output_type": "stream",
          "name": "stdout",
          "text": [
            "Original Image:\n"
          ]
        },
        {
          "output_type": "display_data",
          "data": {
            "text/plain": [
              "<PIL.Image.Image image mode=RGB size=25x286>"
            ],
            "image/png": "[encoded data removed]",
            "image/jpeg": "[encoded data removed]"
          },
          "metadata": {}
        },
        {
          "output_type": "stream",
          "name": "stdout",
          "text": [
            "Grayscale Image:\n"
          ]
        },
        {
          "output_type": "display_data",
          "data": {
            "text/plain": [
              "<PIL.Image.Image image mode=L size=25x286>"
            ],
            "image/png": "[encoded data removed]",
            "image/jpeg": "[encoded data removed]"
          },
          "metadata": {}
        },
        {
          "output_type": "stream",
          "name": "stdout",
          "text": [
            "Pixel intensity - min: 127, max: 223, mean: 179.48\n",
            "Using dynamic threshold value: 199\n",
            "Thresholded Image:\n"
          ]
        },
        {
          "output_type": "display_data",
          "data": {
            "text/plain": [
              "<PIL.Image.Image image mode=L size=25x286>"
            ],
            "image/png": "[encoded data removed]",
            "image/jpeg": "[encoded data removed]"
          },
          "metadata": {}
        },
        {
          "output_type": "stream",
          "name": "stdout",
          "text": [
            "Total contours found: 17\n"
          ]
        },
        {
          "output_type": "display_data",
          "data": {
            "text/plain": [
              "<PIL.Image.Image image mode=RGB size=25x286>"
            ],
            "image/png": "[encoded data removed]",
            "image/jpeg": "[encoded data removed]"
          },
          "metadata": {}
        },
        {
          "output_type": "stream",
          "name": "stdout",
          "text": [
            "Contours after filtering: 6\n",
            "Patch 1 at (x=0, y=0, w=25, h=114) → HSV: (30.393684210526313, 38.85263157894737, 189.12456140350875)\n",
            "Patch 2 at (x=0, y=115, w=25, h=24) → HSV: (20.92666666666667, 30.448333333333334, 198.90333333333334)\n",
            "Patch 3 at (x=0, y=145, w=25, h=24) → HSV: (21.83666666666667, 39.50166666666667, 183.81833333333336)\n",
            "Patch 4 at (x=0, y=170, w=25, h=34) → HSV: (51.17647058823529, 31.34941176470588, 168.71647058823527)\n",
            "Patch 5 at (x=0, y=205, w=25, h=53) → HSV: (20.441509433962263, 88.73811320754716, 194.17735849056604)\n",
            "Patch 6 at (x=0, y=259, w=25, h=27) → HSV: (24.599999999999998, 96.3437037037037, 207.5511111111111)\n",
            "Detected Patch Boxes:\n"
          ]
        },
        {
          "output_type": "display_data",
          "data": {
            "text/plain": [
              "<PIL.Image.Image image mode=RGB size=25x286>"
            ],
            "image/png": "[encoded data removed]",
            "image/jpeg": "[encoded data removed]"
          },
          "metadata": {}
        },
        {
          "output_type": "display_data",
          "data": {
            "text/plain": [
              "<Figure size 640x480 with 1 Axes>"
            ],
            "image/png": "[encoded data removed]"
          },
          "metadata": {}
        },
        {
          "output_type": "stream",
          "name": "stdout",
          "text": [
            "[[ 30  38 189]\n",
            " [ 20  30 198]\n",
            " [ 21  39 183]\n",
            " [ 51  31 168]\n",
            " [ 20  88 194]\n",
            " [ 24  96 207]]\n"
          ]
        }
      ]
    },
    {
      "cell_type": "code",
      "source": [
        "input_hsv = [[63,  32, 144]]"
      ],
      "metadata": {
        "id": "kq6LYIE66P0S"
      },
      "execution_count": 20,
      "outputs": []
    },
    {
      "cell_type": "markdown",
      "source": [
        "# KNN model inference"
      ],
      "metadata": {
        "id": "kVu0RGBW8pXK"
      }
    },
    {
      "cell_type": "code",
      "source": [
        "with open(\"/content/drive/MyDrive/models/protein_model.pkl\", 'rb') as file:\n",
        "          model = pickle.load(file)\n",
        "\n",
        "\n",
        "# Predict using the model\n",
        "prediction = model.predict(input_hsv)\n",
        "\n",
        "print(prediction)"
      ],
      "metadata": {
        "colab": {
          "base_uri": "https://localhost:8080/"
        },
        "id": "HY8z8OiVSU6C",
        "outputId": "7b5073c8-3abd-4016-b82b-1e5a13e64cd7"
      },
      "execution_count": 21,
      "outputs": [
        {
          "output_type": "stream",
          "name": "stdout",
          "text": [
            "[300.]\n"
          ]
        }
      ]
    },
    {
      "cell_type": "markdown",
      "source": [
        "# Colour Chart Inference"
      ],
      "metadata": {
        "id": "7eKk-u2b8j3W"
      }
    },
    {
      "cell_type": "code",
      "source": [
        "# === Inference Example ===\n",
        "color_chart = load_chart_from_file(\"color_chart.txt\")\n",
        "\n",
        "biomarker = \"protein\"\n",
        "match = match_to_chart([input_hsv], biomarker, color_chart)\n",
        "\n",
        "print(f\"Input HSV: {input_hsv} → Closest match in '{biomarker}': {match}\")\n"
      ],
      "metadata": {
        "colab": {
          "base_uri": "https://localhost:8080/"
        },
        "id": "Z-yOLhxQkuFX",
        "outputId": "11aabfaf-c9ee-4729-9cbc-d24a12203e95"
      },
      "execution_count": 23,
      "outputs": [
        {
          "output_type": "stream",
          "name": "stdout",
          "text": [
            "Input HSV: [[63, 32, 144]] → Closest match in 'protein': 15\n"
          ]
        }
      ]
    },
    {
      "cell_type": "markdown",
      "source": [
        "# Results"
      ],
      "metadata": {
        "id": "vnzO7DA6Xjap"
      }
    },
    {
      "cell_type": "code",
      "source": [
        "import pickle\n",
        "import numpy as np\n",
        "import warnings\n",
        "\n",
        "# Suppress specific warnings\n",
        "warnings.filterwarnings(\"ignore\", category=UserWarning)\n",
        "warnings.filterwarnings(\"ignore\", category=FutureWarning)"
      ],
      "metadata": {
        "id": "6uGBRjDJXoKQ"
      },
      "execution_count": 24,
      "outputs": []
    },
    {
      "cell_type": "code",
      "source": [
        "def interpret(model_paths,hsv_values):\n",
        "  results = {}\n",
        "\n",
        "  # Iterate over each model and test with the corresponding HSV values\n",
        "  for model_path, hsv_value in zip(model_paths, hsv_values):\n",
        "      # Load the model\n",
        "      with open(model_path, 'rb') as file:\n",
        "          model = pickle.load(file)\n",
        "\n",
        "      # Predict using the model\n",
        "      prediction = model.predict([hsv_value])\n",
        "\n",
        "      results[model_path.split('/')[-1].removesuffix(\"_model.pkl\")] = prediction[0]\n",
        "\n",
        "      # Print the result\n",
        "      # print(f\"Model: {model_path.split('/')[-1]}, HSV: {hsv_value}, Prediction: {prediction[0]}\\n\")\n",
        "\n",
        "  return results\n",
        "\n",
        "def interpret_results(results):\n",
        "    interpretations = {}\n",
        "\n",
        "    # Bilirubin (assumed units; normally not detectable)\n",
        "    bilirubin = results.get('bilirubin', None)\n",
        "    if bilirubin is None:\n",
        "        interpretations['bilirubin'] = \"no data\"\n",
        "    else:\n",
        "        if bilirubin == 0:\n",
        "            interpretations['bilirubin'] = \"normal\"\n",
        "        elif 0 < bilirubin < 2:\n",
        "            interpretations['bilirubin'] = \"caution\"\n",
        "        else:\n",
        "            interpretations['bilirubin'] = \"danger\"\n",
        "\n",
        "    # Blood in urine (normal: not detected / 0; any detection is abnormal)\n",
        "    blood = results.get('blood', None)\n",
        "    if blood is None:\n",
        "        interpretations['blood'] = \"no data\"\n",
        "    else:\n",
        "        # assuming numeric values: 0 is normal; small amounts caution; higher values danger\n",
        "        if blood == 0 or blood == \"not detected\":\n",
        "            interpretations['blood'] = \"normal\"\n",
        "        elif isinstance(blood, (int, float)) and 0 < blood <= 50:\n",
        "            interpretations['blood'] = \"caution\"\n",
        "        else:\n",
        "            interpretations['blood'] = \"danger\"\n",
        "\n",
        "    # Glucose (normal urine glucose: 0 to 15 mg/dL; high values indicate abnormal)\n",
        "    glucose = results.get('glucose', None)\n",
        "    if glucose is None:\n",
        "        interpretations['glucose'] = \"no data\"\n",
        "    else:\n",
        "        if 0 <= glucose <= 15:\n",
        "            interpretations['glucose'] = \"normal\"\n",
        "        elif 15 < glucose <= 100:\n",
        "            interpretations['glucose'] = \"caution\"\n",
        "        else:\n",
        "            interpretations['glucose'] = \"danger\"\n",
        "\n",
        "    # Ketones (normally negative or zero)\n",
        "    ketones = results.get('ketones', None)\n",
        "    if ketones is None:\n",
        "        interpretations['ketones'] = \"no data\"\n",
        "    else:\n",
        "        if ketones == 0 or ketones == \"neg\":\n",
        "            interpretations['ketones'] = \"normal\"\n",
        "        elif 0 < ketones < 1.5:\n",
        "            interpretations['ketones'] = \"caution\"\n",
        "        else:\n",
        "            interpretations['ketones'] = \"danger\"\n",
        "\n",
        "    # Leukocytes (normal: few; typically 0-5 WBCs per high-power field; higher counts are abnormal)\n",
        "    leukocytes = results.get('leukocytes', None)\n",
        "    if leukocytes is None:\n",
        "        interpretations['leukocytes'] = \"no data\"\n",
        "    else:\n",
        "        if leukocytes <= 5:\n",
        "            interpretations['leukocytes'] = \"normal\"\n",
        "        elif 5 < leukocytes <= 20:\n",
        "            interpretations['leukocytes'] = \"caution\"\n",
        "        else:\n",
        "            interpretations['leukocytes'] = \"danger\"\n",
        "\n",
        "    # Nitrite (normal is negative)\n",
        "    nitrite = results.get('nitrite', None)\n",
        "    if nitrite is None:\n",
        "        interpretations['nitrite'] = \"no data\"\n",
        "    else:\n",
        "        if isinstance(nitrite, str) and nitrite.lower() in [\"neg\", \"negative\"]:\n",
        "            interpretations['nitrite'] = \"normal\"\n",
        "        else:\n",
        "            interpretations['nitrite'] = \"danger\"\n",
        "\n",
        "    # pH (normal range: 4.6 to 8.0)\n",
        "    pH = results.get('pH', None)\n",
        "    if pH is None:\n",
        "        interpretations['pH'] = \"no data\"\n",
        "    else:\n",
        "        if 4.6 <= pH <= 8.0:\n",
        "            interpretations['pH'] = \"normal\"\n",
        "        elif (pH < 4.6 and pH >= 4.0) or (pH > 8.0 and pH <= 8.5):\n",
        "            interpretations['pH'] = \"caution\"\n",
        "        else:\n",
        "            interpretations['pH'] = \"danger\"\n",
        "\n",
        "    # Protein (normal: 0 to 14 mg/dL)\n",
        "    protein = results.get('protein', None)\n",
        "    if protein is None:\n",
        "        interpretations['protein'] = \"no data\"\n",
        "    else:\n",
        "        if 0 <= protein <= 14:\n",
        "            interpretations['protein'] = \"normal\"\n",
        "        elif 14 < protein <= 30:\n",
        "            interpretations['protein'] = \"caution\"\n",
        "        else:\n",
        "            interpretations['protein'] = \"danger\"\n",
        "\n",
        "    # Specific Gravity (normal range: 1.010 to 1.030)\n",
        "    sp_gravity = results.get('specific_gravity', None)\n",
        "    if sp_gravity is None:\n",
        "        interpretations['specific_gravity'] = \"no data\"\n",
        "    else:\n",
        "        if 1.010 <= sp_gravity <= 1.030:\n",
        "            interpretations['specific_gravity'] = \"normal\"\n",
        "        elif (1.000 <= sp_gravity < 1.010) or (1.030 < sp_gravity <= 1.040):\n",
        "            interpretations['specific_gravity'] = \"caution\"\n",
        "        else:\n",
        "            interpretations['specific_gravity'] = \"danger\"\n",
        "\n",
        "    # Urobilinogen (normal: approximately 0.2 to 1.0 mg/dL)\n",
        "    urobilinogen = results.get('urobilinogen', None)\n",
        "    if urobilinogen is None:\n",
        "        interpretations['urobilinogen'] = \"no data\"\n",
        "    else:\n",
        "        if 0.2 <= urobilinogen <= 1.0:\n",
        "            interpretations['urobilinogen'] = \"normal\"\n",
        "        elif 1.0 < urobilinogen <= 2.0:\n",
        "            interpretations['urobilinogen'] = \"caution\"\n",
        "        else:\n",
        "            interpretations['urobilinogen'] = \"danger\"\n",
        "\n",
        "    return interpretations"
      ],
      "metadata": {
        "id": "pFi8IpA5XxZK"
      },
      "execution_count": 25,
      "outputs": []
    },
    {
      "cell_type": "code",
      "source": [
        "# Define the HSV values for the biomarkers\n",
        "hsv_values = np.array(hsv_values)\n",
        "\n",
        "# List of model file paths\n",
        "model_paths = [\n",
        "    \"/content/drive/MyDrive/models/glucose_model.pkl\",\n",
        "    \"/content/drive/MyDrive/models/urobilinogen_model.pkl\",\n",
        "    \"/content/drive/MyDrive/models/bilirubin_model.pkl\",\n",
        "    \"/content/drive/MyDrive/models/leukocytes_model.pkl\",\n",
        "    \"/content/drive/MyDrive/models/nitrite_model.pkl\",\n",
        "    \"/content/drive/MyDrive/models/ketones_model.pkl\",\n",
        "    \"/content/drive/MyDrive/models/protein_model.pkl\",\n",
        "    \"/content/drive/MyDrive/models/specific_gravity_model.pkl\",\n",
        "    \"/content/drive/MyDrive/models/pH_model.pkl\",\n",
        "    \"/content/drive/MyDrive/models/blood_model.pkl\",\n",
        "]\n",
        "\n",
        "results = interpret(model_paths,hsv_values)\n",
        "interpretations = interpret_results(results)"
      ],
      "metadata": {
        "id": "ERCY8VARUfHm"
      },
      "execution_count": 26,
      "outputs": []
    },
    {
      "cell_type": "code",
      "source": [
        "results = interpret(model_paths,hsv_values)\n",
        "interpretations = interpret_results(results)"
      ],
      "metadata": {
        "id": "cbeuK80TXhT5"
      },
      "execution_count": 27,
      "outputs": []
    },
    {
      "cell_type": "markdown",
      "source": [],
      "metadata": {
        "id": "fZlGyXNXcHRO"
      }
    },
    {
      "cell_type": "code",
      "source": [
        "print(f\"Protein: {results['protein']}\")\n",
        "print(f\"Protein: {interpretations['protein']}\")\n",
        "\n",
        "print(f\"Glucose: {results['glucose']}\")\n",
        "print(f\"Glucose: {interpretations['glucose']}\")\n",
        "\n",
        "print(f\"pH: {results['pH']}\")\n",
        "print(f\"pH: {interpretations['pH']}\")\n",
        "\n",
        "print(f\"Specific Gravity: {results['specific_gravity']}\")\n",
        "print(f\"Specific Gravity: {interpretations['specific_gravity']}\")\n",
        "\n",
        "print(f\"Blood: {results['blood']}\")\n",
        "print(f\"Blood: {interpretations['blood']}\")\n"
      ],
      "metadata": {
        "id": "p5M_-WXWfUHM",
        "colab": {
          "base_uri": "https://localhost:8080/"
        },
        "outputId": "30f03c7b-51ce-4299-cd9e-b9551d0323d3"
      },
      "execution_count": null,
      "outputs": [
        {
          "output_type": "stream",
          "name": "stdout",
          "text": [
            "Protein: 0.0\n",
            "Protein: normal\n",
            "Glucose: 100.0\n",
            "Glucose: caution\n",
            "pH: 6.5\n",
            "pH: normal\n",
            "Specific Gravity: 1.0290000000000001\n",
            "Specific Gravity: normal\n",
            "Blood: 0.0\n",
            "Blood: normal\n"
          ]
        }
      ]
    }
  ]
}